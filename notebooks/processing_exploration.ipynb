{
 "cells": [
  {
   "cell_type": "code",
   "execution_count": null,
   "metadata": {},
   "outputs": [],
   "source": [
    "import pandas as pd\n",
    "\n",
    "# Read the CSV file\n",
    "df = pd.read_csv('../data/raw/brooklyn_paramount_shows.csv')\n",
    "\n",
    "# Display the DataFrame\n",
    "print(\"Number of shows:\", len(df))\n",
    "print(\"\\nFirst few rows:\")\n",
    "print(df)"
   ]
  }
 ],
 "metadata": {
  "language_info": {
   "name": "python"
  }
 },
 "nbformat": 4,
 "nbformat_minor": 2
}
